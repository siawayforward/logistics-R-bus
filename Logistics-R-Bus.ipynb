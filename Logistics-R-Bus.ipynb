{
 "metadata": {
  "language_info": {
   "codemirror_mode": {
    "name": "ipython",
    "version": 3
   },
   "file_extension": ".py",
   "mimetype": "text/x-python",
   "name": "python",
   "nbconvert_exporter": "python",
   "pygments_lexer": "ipython3",
   "version": "3.7.6-final"
  },
  "orig_nbformat": 2,
  "kernelspec": {
   "name": "Python 3.7.6 64-bit",
   "display_name": "Python 3.7.6 64-bit",
   "metadata": {
    "interpreter": {
     "hash": "d2c72cc6e90fb8459eef0551a10b3a7d42267052b3677b11fd78927cc89aa8a4"
    }
   }
  }
 },
 "nbformat": 4,
 "nbformat_minor": 2,
 "cells": [
  {
   "source": [
    "## Logistics-R-Bus\n",
    "This text application allows drivers to set their schedule, owners to assign drivers to buses and control availability of the bus, and for local government to control schedule needs, see daily reports, and assign drivers to routes when needed.\n",
    "\n",
    "### Instructions\n",
    "- Run the cell below to log in and follow the prompts\n",
    "- The system will sign you out if you have been deactivated. To go back in, select the type of user and complete functions as needed again"
   ],
   "cell_type": "markdown",
   "metadata": {}
  },
  {
   "cell_type": "code",
   "execution_count": 5,
   "metadata": {
    "tags": []
   },
   "outputs": [
    {
     "output_type": "stream",
     "name": "stdout",
     "text": "\u001b[36m\u001b[1m\nHello, Driver! \nWelcome to Logistics-R-Bus!\u001b[0m\n\u001b[1m\nNew Account Sign Up:\u001b[0m \nPlease provide the following credentials for a new account:\n\u001b[91m\u001b[1m \u001b[0m\n\u001b[36m\u001b[1mCongratulations, Sia! Your account has been created.\n\n\u001b[36m\u001b[1mLog in to Logistics-R-Bus:\u001b[0m\n\nHello,  Sia!\nContact your owner to request a bus assignment \nNo tasks here! Thanks for using Logistics-R-Bus!\n"
    }
   ],
   "source": [
    "%run -i Logistics-R-Bus"
   ]
  },
  {
   "cell_type": "code",
   "execution_count": null,
   "metadata": {},
   "outputs": [],
   "source": [
    "%run -i Logistics-R-Bus  #another user attempt"
   ]
  },
  {
   "cell_type": "code",
   "execution_count": null,
   "metadata": {},
   "outputs": [],
   "source": [
    "%run -i Logistics-R-Bus #another user attempt"
   ]
  }
 ]
}